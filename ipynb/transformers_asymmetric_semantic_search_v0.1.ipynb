{
 "cells": [
  {
   "cell_type": "markdown",
   "id": "f59f177b-3e64-474a-86b8-5ff81cb3048c",
   "metadata": {},
   "source": [
    "### Trialing performance of transformers for asymmetric semantic search v0.1\n",
    "Created: 15 July 2022"
   ]
  },
  {
   "cell_type": "code",
<<<<<<< HEAD
   "execution_count": 14,
=======
   "execution_count": 1,
>>>>>>> 4f4a66d (postgresql db)
   "id": "b37deeb1-c394-463b-a834-fa661cfa4a08",
   "metadata": {},
   "outputs": [
    {
     "name": "stderr",
     "output_type": "stream",
     "text": [
      "[nltk_data] Downloading package wordnet to\n",
      "[nltk_data]     /Users/matthewstachyra/nltk_data...\n",
      "[nltk_data]   Package wordnet is already up-to-date!\n",
      "[nltk_data] Downloading package omw-1.4 to\n",
      "[nltk_data]     /Users/matthewstachyra/nltk_data...\n",
      "[nltk_data]   Package omw-1.4 is already up-to-date!\n",
      "[nltk_data] Downloading package stopwords to\n",
      "[nltk_data]     /Users/matthewstachyra/nltk_data...\n",
      "[nltk_data]   Package stopwords is already up-to-date!\n"
     ]
<<<<<<< HEAD
=======
    },
    {
     "data": {
      "text/plain": [
       "True"
      ]
     },
     "execution_count": 1,
     "metadata": {},
     "output_type": "execute_result"
>>>>>>> 4f4a66d (postgresql db)
    }
   ],
   "source": [
    "import re\n",
    "import random\n",
    "import itertools\n",
    "import warnings\n",
    "warnings.filterwarnings(\"ignore\")\n",
    "\n",
    "# numpy\n",
    "import numpy as np\n",
    "from numpy.linalg import norm\n",
    "\n",
    "# nltk, spacy, gensim\n",
    "import spacy\n",
    "import nltk\n",
    "from nltk.corpus import wordnet as wn\n",
    "from nltk.tokenize import RegexpTokenizer\n",
    "from nltk.stem import WordNetLemmatizer\n",
    "from nltk.corpus import stopwords\n",
    "from gensim.models.word2vec import Word2Vec\n",
    "import gensim.downloader as api\n",
    "\n",
<<<<<<< HEAD
    "# pytorch, parrot\n",
    "from parrot import Parrot\n",
=======
    "# pytorch\n",
>>>>>>> 4f4a66d (postgresql db)
    "import torch\n",
    "\n",
    "# sentence transformers\n",
    "from sentence_transformers import SentenceTransformer, util\n",
    "\n",
    "nltk.download('wordnet')\n",
    "nltk.download('omw-1.4')\n",
    "nltk.download('stopwords')"
   ]
  },
  {
   "cell_type": "code",
<<<<<<< HEAD
   "execution_count": 3,
=======
   "execution_count": 2,
>>>>>>> 4f4a66d (postgresql db)
   "id": "71bb4d18-ae80-4580-9f84-7aeb1a226a65",
   "metadata": {},
   "outputs": [],
   "source": [
    "embedder = SentenceTransformer('all-MiniLM-L6-v2')"
   ]
  },
  {
   "cell_type": "code",
<<<<<<< HEAD
   "execution_count": 2,
=======
   "execution_count": 157,
>>>>>>> 4f4a66d (postgresql db)
   "id": "bc8cba2b-2617-4d0c-a306-7005e1989eb5",
   "metadata": {},
   "outputs": [],
   "source": [
    "corpus = ['A man is eating food.',\n",
    "          'A man is eating a piece of bread.',\n",
    "          'The girl is carrying a baby.',\n",
<<<<<<< HEAD
=======
    "          'The girl is watching the child.',\n",
>>>>>>> 4f4a66d (postgresql db)
    "          'A man is riding a horse.',\n",
    "          'A woman is playing violin.',\n",
    "          'Two men pushed carts through the woods.',\n",
    "          'A man is riding a white horse on an enclosed ground.',\n",
    "          'A monkey is playing drums.',\n",
<<<<<<< HEAD
    "          'A cheetah is running behind its prey.',\n",
    "          'apples, oranges, eggs, chicken'\n",
=======
    "          'capacitor loquacious dodiggity luminence confounding',\n",
    "          'A cheetah is running behind its prey.',\n",
    "          'apples, oranges, eggs, chicken',\n",
    "          'apples oranges eggs chicken',\n",
    "          'gradient based methods'\n",
>>>>>>> 4f4a66d (postgresql db)
    "          ]"
   ]
  },
  {
   "cell_type": "code",
<<<<<<< HEAD
   "execution_count": 4,
=======
   "execution_count": 158,
>>>>>>> 4f4a66d (postgresql db)
   "id": "655c5ab0-37d4-4400-a97c-137dd0bfee94",
   "metadata": {},
   "outputs": [],
   "source": [
    "corpus_embeddings = embedder.encode(corpus, convert_to_tensor=True)"
   ]
  },
  {
   "cell_type": "code",
<<<<<<< HEAD
   "execution_count": 5,
=======
   "execution_count": 159,
>>>>>>> 4f4a66d (postgresql db)
   "id": "31071b6b-6c70-47d5-9982-51b38a7bb79e",
   "metadata": {},
   "outputs": [
    {
     "data": {
      "text/plain": [
       "tensor([[ 0.0332,  0.0044, -0.0063,  ...,  0.0692, -0.0246, -0.0376],\n",
       "        [ 0.0525,  0.0552, -0.0112,  ..., -0.0162, -0.0602, -0.0412],\n",
       "        [-0.0363, -0.0357, -0.0272,  ..., -0.0386,  0.1057, -0.0013],\n",
       "        ...,\n",
<<<<<<< HEAD
       "        [ 0.0235, -0.0585,  0.0560,  ...,  0.0583,  0.0377,  0.0410],\n",
       "        [ 0.0228,  0.1041, -0.0340,  ...,  0.0029,  0.0386,  0.0438],\n",
       "        [ 0.0042,  0.0007, -0.0168,  ...,  0.0888,  0.1127,  0.0361]])"
      ]
     },
     "execution_count": 5,
=======
       "        [ 0.0042,  0.0007, -0.0168,  ...,  0.0888,  0.1127,  0.0361],\n",
       "        [-0.0386,  0.0157, -0.0061,  ...,  0.0651,  0.1057,  0.0348],\n",
       "        [-0.0972, -0.0591,  0.0229,  ...,  0.0361,  0.0533, -0.0394]])"
      ]
     },
     "execution_count": 159,
>>>>>>> 4f4a66d (postgresql db)
     "metadata": {},
     "output_type": "execute_result"
    }
   ],
   "source": [
    "corpus_embeddings"
   ]
  },
  {
   "cell_type": "code",
<<<<<<< HEAD
   "execution_count": 8,
=======
   "execution_count": 167,
>>>>>>> 4f4a66d (postgresql db)
   "id": "4579505c-0bd2-4309-8adc-6400cdcae884",
   "metadata": {},
   "outputs": [],
   "source": [
<<<<<<< HEAD
    "query = 'grocery list' "
=======
    "query1 = 'grocery list' \n",
    "query2 = 'groceries'\n",
    "query3 = 'fast animal'\n",
    "query4 = 'list'\n",
    "query5 = 'gambling'\n",
    "query6 = 'babysitter'\n",
    "query7 = 'large words'\n",
    "query8 = 'chopin'\n",
    "query9 = 'optimization'\n",
    "query10 = 'hessian'\n",
    "query11 = 'nesterov'\n",
    "query12 = 'python'\n",
    "query13 = 'apples'"
>>>>>>> 4f4a66d (postgresql db)
   ]
  },
  {
   "cell_type": "code",
<<<<<<< HEAD
   "execution_count": 9,
=======
   "execution_count": 168,
   "id": "c8c5c25d-fb1c-4502-bbb5-600116817c09",
   "metadata": {},
   "outputs": [],
   "source": [
    "query = query13"
   ]
  },
  {
   "cell_type": "code",
   "execution_count": 169,
>>>>>>> 4f4a66d (postgresql db)
   "id": "ef52141e-7b79-456d-a69a-9adb7834b39c",
   "metadata": {},
   "outputs": [],
   "source": [
    "query_embedding = embedder.encode(query, convert_to_tensor=True)"
   ]
  },
  {
   "cell_type": "code",
<<<<<<< HEAD
   "execution_count": 10,
=======
   "execution_count": 170,
>>>>>>> 4f4a66d (postgresql db)
   "id": "c299af3e-cc12-4a83-9fbc-53e781f269b1",
   "metadata": {},
   "outputs": [],
   "source": [
    "hits = util.semantic_search(query_embedding, corpus_embeddings, top_k=5, score_function=util.dot_score)"
   ]
  },
  {
   "cell_type": "code",
<<<<<<< HEAD
   "execution_count": 11,
=======
   "execution_count": 171,
>>>>>>> 4f4a66d (postgresql db)
   "id": "5f21f549-94b5-4363-bb42-8b7b87532c23",
   "metadata": {},
   "outputs": [
    {
     "data": {
      "text/plain": [
<<<<<<< HEAD
       "[[{'corpus_id': 9, 'score': 0.3955247104167938},\n",
       "  {'corpus_id': 0, 'score': 0.21664908528327942},\n",
       "  {'corpus_id': 1, 'score': 0.19876854121685028},\n",
       "  {'corpus_id': 8, 'score': 0.06794281303882599},\n",
       "  {'corpus_id': 2, 'score': 0.050490930676460266}]]"
      ]
     },
     "execution_count": 11,
=======
       "[[{'corpus_id': 11, 'score': 0.639179527759552},\n",
       "  {'corpus_id': 12, 'score': 0.5986646413803101},\n",
       "  {'corpus_id': 13, 'score': 0.10257516801357269},\n",
       "  {'corpus_id': 10, 'score': 0.08876217901706696},\n",
       "  {'corpus_id': 6, 'score': 0.07882814109325409}]]"
      ]
     },
     "execution_count": 171,
>>>>>>> 4f4a66d (postgresql db)
     "metadata": {},
     "output_type": "execute_result"
    }
   ],
   "source": [
    "hits"
   ]
  },
  {
   "cell_type": "code",
<<<<<<< HEAD
   "execution_count": 12,
=======
   "execution_count": 172,
>>>>>>> 4f4a66d (postgresql db)
   "id": "7b71d382-a8f4-43d2-aaa5-c8638976b324",
   "metadata": {},
   "outputs": [
    {
     "name": "stdout",
     "output_type": "stream",
     "text": [
      "apples, oranges, eggs, chicken\n",
<<<<<<< HEAD
      "A man is eating food.\n"
=======
      "apples oranges eggs chicken\n"
>>>>>>> 4f4a66d (postgresql db)
     ]
    }
   ],
   "source": [
    "# hit 1\n",
    "print(corpus[hits[0][0]['corpus_id']])\n",
    "\n",
    "# hit 2\n",
    "print(corpus[hits[0][1]['corpus_id']])"
   ]
  },
  {
   "cell_type": "code",
   "execution_count": null,
   "id": "fcbae30f-5550-48fa-92e4-411748723133",
   "metadata": {},
   "outputs": [],
   "source": []
<<<<<<< HEAD
=======
  },
  {
   "cell_type": "code",
   "execution_count": null,
   "id": "45bf67ac-a26a-446e-bbfa-a782c005af11",
   "metadata": {},
   "outputs": [],
   "source": []
  },
  {
   "cell_type": "code",
   "execution_count": null,
   "id": "52e41d49-5d50-4172-9a52-363ea823503b",
   "metadata": {},
   "outputs": [],
   "source": []
>>>>>>> 4f4a66d (postgresql db)
  }
 ],
 "metadata": {
  "kernelspec": {
   "display_name": "Python 3 (ipykernel)",
   "language": "python",
   "name": "python3"
  },
  "language_info": {
   "codemirror_mode": {
    "name": "ipython",
    "version": 3
   },
   "file_extension": ".py",
   "mimetype": "text/x-python",
   "name": "python",
   "nbconvert_exporter": "python",
   "pygments_lexer": "ipython3",
   "version": "3.9.13"
  }
 },
 "nbformat": 4,
 "nbformat_minor": 5
}
