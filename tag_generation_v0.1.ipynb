{
 "cells": [
  {
   "cell_type": "markdown",
   "id": "4e266492-869a-4ec6-99bf-6f55411fe2c3",
   "metadata": {},
   "source": [
    "### Tag generation prototype v0.1 \n",
    "12 July 2022"
   ]
  },
  {
   "cell_type": "markdown",
   "id": "92d1fe03-3117-4fe1-b7fe-e9b9140ddcd4",
   "metadata": {},
   "source": [
    "parrot: https://github.com/PrithivirajDamodaran/Parrot_Paraphraser <br>\n",
    "rasa prototype: https://colab.research.google.com/drive/1RGWrQv3e0CRDPDROQ3ZmUWTmlRljasGi#scrollTo=776uG9Q6DTnf <br>"
   ]
  },
  {
   "cell_type": "code",
   "execution_count": 142,
   "id": "4b248868-8d9c-4b20-9804-a9306b942b8e",
   "metadata": {},
   "outputs": [
    {
     "name": "stderr",
     "output_type": "stream",
     "text": [
      "[nltk_data] Downloading package wordnet to\n",
      "[nltk_data]     /Users/matthewstachyra/nltk_data...\n",
      "[nltk_data]   Package wordnet is already up-to-date!\n",
      "[nltk_data] Downloading package omw-1.4 to\n",
      "[nltk_data]     /Users/matthewstachyra/nltk_data...\n",
      "[nltk_data]   Package omw-1.4 is already up-to-date!\n",
      "[nltk_data] Downloading package stopwords to\n",
      "[nltk_data]     /Users/matthewstachyra/nltk_data...\n",
      "[nltk_data]   Package stopwords is already up-to-date!\n"
     ]
    },
    {
     "data": {
      "text/plain": [
       "True"
      ]
     },
     "execution_count": 142,
     "metadata": {},
     "output_type": "execute_result"
    }
   ],
   "source": [
    "import re\n",
    "import itertools\n",
    "import warnings\n",
    "warnings.filterwarnings(\"ignore\")\n",
    "\n",
    "# numpy\n",
    "import numpy as np\n",
    "from numpy.linalg import norm\n",
    "\n",
    "# nltk, spacy, gensim\n",
    "import spacy\n",
    "import nltk\n",
    "from nltk.corpus import wordnet as wn\n",
    "from nltk.tokenize import RegexpTokenizer\n",
    "from nltk.stem import WordNetLemmatizer\n",
    "from nltk.corpus import stopwords\n",
    "from gensim.models.word2vec import Word2Vec\n",
    "import gensim.downloader as api\n",
    "\n",
    "# pytorch, parrot\n",
    "from parrot import Parrot\n",
    "import torch\n",
    "\n",
    "nltk.download('wordnet')\n",
    "nltk.download('omw-1.4')\n",
    "nltk.download('stopwords')"
   ]
  },
  {
   "cell_type": "code",
   "execution_count": 2,
   "id": "2794a028-8840-4760-aadf-440544e4d36d",
   "metadata": {},
   "outputs": [],
   "source": [
    "def random_state(seed):\n",
    "    torch.manual_seed(seed)\n",
    "    if torch.cuda.is_available():\n",
    "        torch.cuda.manual_seed_all(seed)\n",
    "\n",
    "random_state(1234)"
   ]
  },
  {
   "cell_type": "markdown",
   "id": "b0616cc9-de8c-44ab-8128-8cb079a1aa3e",
   "metadata": {},
   "source": [
    "## what will make up tags?\n",
    "#### current philosophy is to create as many unique but semantically related tokens as possible, and use those as tags"
   ]
  },
  {
   "cell_type": "markdown",
   "id": "529973d3-fe13-4fca-b051-c5b70955fbf5",
   "metadata": {},
   "source": [
    "#### WIP tags generated\n",
    "1. tokens from words in note\n",
    "2. tokens from paraphrases of note\n",
    "3. synonyms of nouns in note\n",
    "4. synonyms of nouns in each paraphrase"
   ]
  },
  {
   "cell_type": "markdown",
   "id": "599d5976-1712-4946-880f-62eda888bd46",
   "metadata": {},
   "source": [
    "## using `parrot` paraphraser to generate paraphrases, demo below"
   ]
  },
  {
   "cell_type": "code",
   "execution_count": 3,
   "id": "10375bc2-9d1c-4868-b9ed-2784adecf3a2",
   "metadata": {},
   "outputs": [
    {
     "data": {
      "application/json": {
       "ascii": false,
       "bar_format": null,
       "colour": null,
       "elapsed": 0.02855086326599121,
       "initial": 0,
       "n": 0,
       "ncols": null,
       "nrows": 79,
       "postfix": null,
       "prefix": "Downloading",
       "rate": null,
       "total": 891737400,
       "unit": "B",
       "unit_divisor": 1024,
       "unit_scale": true
      },
      "application/vnd.jupyter.widget-view+json": {
       "model_id": "eb4dff72c34c4f82807be1c79530f016",
       "version_major": 2,
       "version_minor": 0
      },
      "text/plain": [
       "Downloading:   0%|          | 0.00/850M [00:00<?, ?B/s]"
      ]
     },
     "metadata": {},
     "output_type": "display_data"
    },
    {
     "data": {
      "application/json": {
       "ascii": false,
       "bar_format": null,
       "colour": null,
       "elapsed": 0.030373811721801758,
       "initial": 0,
       "n": 0,
       "ncols": null,
       "nrows": 79,
       "postfix": null,
       "prefix": "Downloading",
       "rate": null,
       "total": 913,
       "unit": "B",
       "unit_divisor": 1024,
       "unit_scale": true
      },
      "application/vnd.jupyter.widget-view+json": {
       "model_id": "d88dc775f328451b9bd3a3484237173c",
       "version_major": 2,
       "version_minor": 0
      },
      "text/plain": [
       "Downloading:   0%|          | 0.00/913 [00:00<?, ?B/s]"
      ]
     },
     "metadata": {},
     "output_type": "display_data"
    },
    {
     "data": {
      "application/json": {
       "ascii": false,
       "bar_format": null,
       "colour": null,
       "elapsed": 0.032510995864868164,
       "initial": 0,
       "n": 0,
       "ncols": null,
       "nrows": 79,
       "postfix": null,
       "prefix": "Downloading",
       "rate": null,
       "total": 1421615405,
       "unit": "B",
       "unit_divisor": 1024,
       "unit_scale": true
      },
      "application/vnd.jupyter.widget-view+json": {
       "model_id": "309eb38d20624b99aac0b4be4ddfdec0",
       "version_major": 2,
       "version_minor": 0
      },
      "text/plain": [
       "Downloading:   0%|          | 0.00/1.32G [00:00<?, ?B/s]"
      ]
     },
     "metadata": {},
     "output_type": "display_data"
    },
    {
     "data": {
      "application/json": {
       "ascii": false,
       "bar_format": null,
       "colour": null,
       "elapsed": 0.030057907104492188,
       "initial": 0,
       "n": 0,
       "ncols": null,
       "nrows": 79,
       "postfix": null,
       "prefix": "Downloading",
       "rate": null,
       "total": 898822,
       "unit": "B",
       "unit_divisor": 1024,
       "unit_scale": true
      },
      "application/vnd.jupyter.widget-view+json": {
       "model_id": "c0c57ecca43545d5992e552074caba65",
       "version_major": 2,
       "version_minor": 0
      },
      "text/plain": [
       "Downloading:   0%|          | 0.00/878k [00:00<?, ?B/s]"
      ]
     },
     "metadata": {},
     "output_type": "display_data"
    },
    {
     "data": {
      "application/json": {
       "ascii": false,
       "bar_format": null,
       "colour": null,
       "elapsed": 0.03306698799133301,
       "initial": 0,
       "n": 0,
       "ncols": null,
       "nrows": 79,
       "postfix": null,
       "prefix": "Downloading",
       "rate": null,
       "total": 456318,
       "unit": "B",
       "unit_divisor": 1024,
       "unit_scale": true
      },
      "application/vnd.jupyter.widget-view+json": {
       "model_id": "edf73d757d364820b72da6d6666185ec",
       "version_major": 2,
       "version_minor": 0
      },
      "text/plain": [
       "Downloading:   0%|          | 0.00/446k [00:00<?, ?B/s]"
      ]
     },
     "metadata": {},
     "output_type": "display_data"
    },
    {
     "data": {
      "application/json": {
       "ascii": false,
       "bar_format": null,
       "colour": null,
       "elapsed": 0.03894925117492676,
       "initial": 0,
       "n": 0,
       "ncols": null,
       "nrows": 79,
       "postfix": null,
       "prefix": "Downloading",
       "rate": null,
       "total": 1355863,
       "unit": "B",
       "unit_divisor": 1024,
       "unit_scale": true
      },
      "application/vnd.jupyter.widget-view+json": {
       "model_id": "dec71cf9d92f4b4c89fb35f69ac32748",
       "version_major": 2,
       "version_minor": 0
      },
      "text/plain": [
       "Downloading:   0%|          | 0.00/1.29M [00:00<?, ?B/s]"
      ]
     },
     "metadata": {},
     "output_type": "display_data"
    },
    {
     "data": {
      "application/json": {
       "ascii": false,
       "bar_format": null,
       "colour": null,
       "elapsed": 0.03194069862365723,
       "initial": 0,
       "n": 0,
       "ncols": null,
       "nrows": 79,
       "postfix": null,
       "prefix": "Downloading",
       "rate": null,
       "total": 772,
       "unit": "B",
       "unit_divisor": 1024,
       "unit_scale": true
      },
      "application/vnd.jupyter.widget-view+json": {
       "model_id": "74bfbd825b6e490eb066f21bbf6a24b9",
       "version_major": 2,
       "version_minor": 0
      },
      "text/plain": [
       "Downloading:   0%|          | 0.00/772 [00:00<?, ?B/s]"
      ]
     },
     "metadata": {},
     "output_type": "display_data"
    },
    {
     "data": {
      "application/json": {
       "ascii": false,
       "bar_format": null,
       "colour": null,
       "elapsed": 0.040605783462524414,
       "initial": 0,
       "n": 0,
       "ncols": null,
       "nrows": 79,
       "postfix": null,
       "prefix": "Downloading",
       "rate": null,
       "total": 476,
       "unit": "B",
       "unit_divisor": 1024,
       "unit_scale": true
      },
      "application/vnd.jupyter.widget-view+json": {
       "model_id": "479bb847f0344a07a39fc9e365042fe1",
       "version_major": 2,
       "version_minor": 0
      },
      "text/plain": [
       "Downloading:   0%|          | 0.00/476 [00:00<?, ?B/s]"
      ]
     },
     "metadata": {},
     "output_type": "display_data"
    },
    {
     "data": {
      "application/json": {
       "ascii": false,
       "bar_format": null,
       "colour": null,
       "elapsed": 0.03278803825378418,
       "initial": 0,
       "n": 0,
       "ncols": null,
       "nrows": 79,
       "postfix": null,
       "prefix": "Downloading",
       "rate": null,
       "total": 437985387,
       "unit": "B",
       "unit_divisor": 1024,
       "unit_scale": true
      },
      "application/vnd.jupyter.widget-view+json": {
       "model_id": "3d25e8cb24924008bfc5d55d37f3da57",
       "version_major": 2,
       "version_minor": 0
      },
      "text/plain": [
       "Downloading:   0%|          | 0.00/418M [00:00<?, ?B/s]"
      ]
     },
     "metadata": {},
     "output_type": "display_data"
    },
    {
     "data": {
      "application/json": {
       "ascii": false,
       "bar_format": null,
       "colour": null,
       "elapsed": 0.031919240951538086,
       "initial": 0,
       "n": 0,
       "ncols": null,
       "nrows": 79,
       "postfix": null,
       "prefix": "Downloading",
       "rate": null,
       "total": 48,
       "unit": "B",
       "unit_divisor": 1024,
       "unit_scale": true
      },
      "application/vnd.jupyter.widget-view+json": {
       "model_id": "64973bb4ad674d1c87cf6435f04f5699",
       "version_major": 2,
       "version_minor": 0
      },
      "text/plain": [
       "Downloading:   0%|          | 0.00/48.0 [00:00<?, ?B/s]"
      ]
     },
     "metadata": {},
     "output_type": "display_data"
    },
    {
     "data": {
      "application/json": {
       "ascii": false,
       "bar_format": null,
       "colour": null,
       "elapsed": 0.0453648567199707,
       "initial": 0,
       "n": 0,
       "ncols": null,
       "nrows": 79,
       "postfix": null,
       "prefix": "Downloading",
       "rate": null,
       "total": 231508,
       "unit": "B",
       "unit_divisor": 1024,
       "unit_scale": true
      },
      "application/vnd.jupyter.widget-view+json": {
       "model_id": "b9ec0be953314f63af485cc4c63993ea",
       "version_major": 2,
       "version_minor": 0
      },
      "text/plain": [
       "Downloading:   0%|          | 0.00/226k [00:00<?, ?B/s]"
      ]
     },
     "metadata": {},
     "output_type": "display_data"
    },
    {
     "data": {
      "application/json": {
       "ascii": false,
       "bar_format": null,
       "colour": null,
       "elapsed": 0.03787493705749512,
       "initial": 0,
       "n": 0,
       "ncols": null,
       "nrows": 79,
       "postfix": null,
       "prefix": "Downloading",
       "rate": null,
       "total": 112,
       "unit": "B",
       "unit_divisor": 1024,
       "unit_scale": true
      },
      "application/vnd.jupyter.widget-view+json": {
       "model_id": "397f6a22828f4bf3867b418da88ee466",
       "version_major": 2,
       "version_minor": 0
      },
      "text/plain": [
       "Downloading:   0%|          | 0.00/112 [00:00<?, ?B/s]"
      ]
     },
     "metadata": {},
     "output_type": "display_data"
    },
    {
     "data": {
      "application/json": {
       "ascii": false,
       "bar_format": null,
       "colour": null,
       "elapsed": 0.036086082458496094,
       "initial": 0,
       "n": 0,
       "ncols": null,
       "nrows": 79,
       "postfix": null,
       "prefix": "Downloading",
       "rate": null,
       "total": 736,
       "unit": "B",
       "unit_divisor": 1000,
       "unit_scale": true
      },
      "application/vnd.jupyter.widget-view+json": {
       "model_id": "92c6389e99634e39877fdcfce164f1d8",
       "version_major": 2,
       "version_minor": 0
      },
      "text/plain": [
       "Downloading:   0%|          | 0.00/736 [00:00<?, ?B/s]"
      ]
     },
     "metadata": {},
     "output_type": "display_data"
    },
    {
     "data": {
      "application/json": {
       "ascii": false,
       "bar_format": null,
       "colour": null,
       "elapsed": 0.029080867767333984,
       "initial": 0,
       "n": 0,
       "ncols": null,
       "nrows": 79,
       "postfix": null,
       "prefix": "Downloading",
       "rate": null,
       "total": 190,
       "unit": "B",
       "unit_divisor": 1000,
       "unit_scale": true
      },
      "application/vnd.jupyter.widget-view+json": {
       "model_id": "746afe0e6ed94a2bafd40018fbc1ec91",
       "version_major": 2,
       "version_minor": 0
      },
      "text/plain": [
       "Downloading:   0%|          | 0.00/190 [00:00<?, ?B/s]"
      ]
     },
     "metadata": {},
     "output_type": "display_data"
    },
    {
     "data": {
      "application/json": {
       "ascii": false,
       "bar_format": null,
       "colour": null,
       "elapsed": 0.03271770477294922,
       "initial": 0,
       "n": 0,
       "ncols": null,
       "nrows": 79,
       "postfix": null,
       "prefix": "Downloading",
       "rate": null,
       "total": 3741,
       "unit": "B",
       "unit_divisor": 1000,
       "unit_scale": true
      },
      "application/vnd.jupyter.widget-view+json": {
       "model_id": "f9700a89f9d24852a82e08bc739f5c59",
       "version_major": 2,
       "version_minor": 0
      },
      "text/plain": [
       "Downloading:   0%|          | 0.00/3.74k [00:00<?, ?B/s]"
      ]
     },
     "metadata": {},
     "output_type": "display_data"
    },
    {
     "data": {
      "application/json": {
       "ascii": false,
       "bar_format": null,
       "colour": null,
       "elapsed": 0.028515100479125977,
       "initial": 0,
       "n": 0,
       "ncols": null,
       "nrows": 79,
       "postfix": null,
       "prefix": "Downloading",
       "rate": null,
       "total": 686,
       "unit": "B",
       "unit_divisor": 1000,
       "unit_scale": true
      },
      "application/vnd.jupyter.widget-view+json": {
       "model_id": "bea450f9d0aa4e4e98db8364c60a10c2",
       "version_major": 2,
       "version_minor": 0
      },
      "text/plain": [
       "Downloading:   0%|          | 0.00/686 [00:00<?, ?B/s]"
      ]
     },
     "metadata": {},
     "output_type": "display_data"
    },
    {
     "data": {
      "application/json": {
       "ascii": false,
       "bar_format": null,
       "colour": null,
       "elapsed": 0.03615999221801758,
       "initial": 0,
       "n": 0,
       "ncols": null,
       "nrows": 79,
       "postfix": null,
       "prefix": "Downloading",
       "rate": null,
       "total": 122,
       "unit": "B",
       "unit_divisor": 1000,
       "unit_scale": true
      },
      "application/vnd.jupyter.widget-view+json": {
       "model_id": "9c5de10bc6844210957ba18802497862",
       "version_major": 2,
       "version_minor": 0
      },
      "text/plain": [
       "Downloading:   0%|          | 0.00/122 [00:00<?, ?B/s]"
      ]
     },
     "metadata": {},
     "output_type": "display_data"
    },
    {
     "data": {
      "application/json": {
       "ascii": false,
       "bar_format": null,
       "colour": null,
       "elapsed": 0.03452610969543457,
       "initial": 0,
       "n": 0,
       "ncols": null,
       "nrows": 79,
       "postfix": null,
       "prefix": "Downloading",
       "rate": null,
       "total": 456356,
       "unit": "B",
       "unit_divisor": 1000,
       "unit_scale": true
      },
      "application/vnd.jupyter.widget-view+json": {
       "model_id": "ca3a2d9a6749413e842b252f4eb46f45",
       "version_major": 2,
       "version_minor": 0
      },
      "text/plain": [
       "Downloading:   0%|          | 0.00/456k [00:00<?, ?B/s]"
      ]
     },
     "metadata": {},
     "output_type": "display_data"
    },
    {
     "data": {
      "application/json": {
       "ascii": false,
       "bar_format": null,
       "colour": null,
       "elapsed": 0.030717849731445312,
       "initial": 0,
       "n": 0,
       "ncols": null,
       "nrows": 79,
       "postfix": null,
       "prefix": "Downloading",
       "rate": null,
       "total": 328515953,
       "unit": "B",
       "unit_divisor": 1000,
       "unit_scale": true
      },
      "application/vnd.jupyter.widget-view+json": {
       "model_id": "ec844e1e117d4d30bd08a8795027231a",
       "version_major": 2,
       "version_minor": 0
      },
      "text/plain": [
       "Downloading:   0%|          | 0.00/329M [00:00<?, ?B/s]"
      ]
     },
     "metadata": {},
     "output_type": "display_data"
    },
    {
     "data": {
      "application/json": {
       "ascii": false,
       "bar_format": null,
       "colour": null,
       "elapsed": 0.03690195083618164,
       "initial": 0,
       "n": 0,
       "ncols": null,
       "nrows": 79,
       "postfix": null,
       "prefix": "Downloading",
       "rate": null,
       "total": 53,
       "unit": "B",
       "unit_divisor": 1000,
       "unit_scale": true
      },
      "application/vnd.jupyter.widget-view+json": {
       "model_id": "ef6a45e502504adcb13f22f752421376",
       "version_major": 2,
       "version_minor": 0
      },
      "text/plain": [
       "Downloading:   0%|          | 0.00/53.0 [00:00<?, ?B/s]"
      ]
     },
     "metadata": {},
     "output_type": "display_data"
    },
    {
     "data": {
      "application/json": {
       "ascii": false,
       "bar_format": null,
       "colour": null,
       "elapsed": 0.03424787521362305,
       "initial": 0,
       "n": 0,
       "ncols": null,
       "nrows": 79,
       "postfix": null,
       "prefix": "Downloading",
       "rate": null,
       "total": 239,
       "unit": "B",
       "unit_divisor": 1000,
       "unit_scale": true
      },
      "application/vnd.jupyter.widget-view+json": {
       "model_id": "a68d56b86f094114a335ab5f8e79762f",
       "version_major": 2,
       "version_minor": 0
      },
      "text/plain": [
       "Downloading:   0%|          | 0.00/239 [00:00<?, ?B/s]"
      ]
     },
     "metadata": {},
     "output_type": "display_data"
    },
    {
     "data": {
      "application/json": {
       "ascii": false,
       "bar_format": null,
       "colour": null,
       "elapsed": 0.0300443172454834,
       "initial": 0,
       "n": 0,
       "ncols": null,
       "nrows": 79,
       "postfix": null,
       "prefix": "Downloading",
       "rate": null,
       "total": 1355881,
       "unit": "B",
       "unit_divisor": 1000,
       "unit_scale": true
      },
      "application/vnd.jupyter.widget-view+json": {
       "model_id": "0a357184d3a14115b9764dce412cc13b",
       "version_major": 2,
       "version_minor": 0
      },
      "text/plain": [
       "Downloading:   0%|          | 0.00/1.36M [00:00<?, ?B/s]"
      ]
     },
     "metadata": {},
     "output_type": "display_data"
    },
    {
     "data": {
      "application/json": {
       "ascii": false,
       "bar_format": null,
       "colour": null,
       "elapsed": 0.030985116958618164,
       "initial": 0,
       "n": 0,
       "ncols": null,
       "nrows": 79,
       "postfix": null,
       "prefix": "Downloading",
       "rate": null,
       "total": 1123,
       "unit": "B",
       "unit_divisor": 1000,
       "unit_scale": true
      },
      "application/vnd.jupyter.widget-view+json": {
       "model_id": "71ee9bfff309412d9e28182e95cd3756",
       "version_major": 2,
       "version_minor": 0
      },
      "text/plain": [
       "Downloading:   0%|          | 0.00/1.12k [00:00<?, ?B/s]"
      ]
     },
     "metadata": {},
     "output_type": "display_data"
    },
    {
     "data": {
      "application/json": {
       "ascii": false,
       "bar_format": null,
       "colour": null,
       "elapsed": 0.03393697738647461,
       "initial": 0,
       "n": 0,
       "ncols": null,
       "nrows": 79,
       "postfix": null,
       "prefix": "Downloading",
       "rate": null,
       "total": 798293,
       "unit": "B",
       "unit_divisor": 1000,
       "unit_scale": true
      },
      "application/vnd.jupyter.widget-view+json": {
       "model_id": "33fca40772144cdb8954c6bc20b31f15",
       "version_major": 2,
       "version_minor": 0
      },
      "text/plain": [
       "Downloading:   0%|          | 0.00/798k [00:00<?, ?B/s]"
      ]
     },
     "metadata": {},
     "output_type": "display_data"
    },
    {
     "data": {
      "application/json": {
       "ascii": false,
       "bar_format": null,
       "colour": null,
       "elapsed": 0.0343930721282959,
       "initial": 0,
       "n": 0,
       "ncols": null,
       "nrows": 79,
       "postfix": null,
       "prefix": "Downloading",
       "rate": null,
       "total": 229,
       "unit": "B",
       "unit_divisor": 1000,
       "unit_scale": true
      },
      "application/vnd.jupyter.widget-view+json": {
       "model_id": "d5028c1e8362417f95636c8118146813",
       "version_major": 2,
       "version_minor": 0
      },
      "text/plain": [
       "Downloading:   0%|          | 0.00/229 [00:00<?, ?B/s]"
      ]
     },
     "metadata": {},
     "output_type": "display_data"
    }
   ],
   "source": [
    "parrot = Parrot(model_tag=\"prithivida/parrot_paraphraser_on_T5\")"
   ]
  },
  {
   "cell_type": "code",
   "execution_count": 138,
   "id": "acf493fd-f5e9-447e-9cc6-59696f662d38",
   "metadata": {},
   "outputs": [
    {
     "name": "stdout",
     "output_type": "stream",
     "text": [
      "----------------------------------------------------------------------------------------------------\n",
      "Input_phrase:  Can you recommed some upscale restaurants in Newyork?\n",
      "----------------------------------------------------------------------------------------------------\n",
      "('recommend some of the best upscale restaurants in new york?', 28)\n",
      "('recommend some very upscale restaurants in new york?', 26)\n",
      "('can you suggest some upscale restaurants in new york?', 21)\n",
      "('can you recommend some elegant restaurants in new york?', 20)\n",
      "('can you recommend some upscale restaurants in new york?', 14)\n",
      "('can you recommend some upscale restaurants in newyork?', 13)\n",
      "----------------------------------------------------------------------------------------------------\n",
      "Input_phrase:  I was sad that I failed my exam but I knew that I could score better next time.\n",
      "----------------------------------------------------------------------------------------------------\n",
      "('i was sad because i failed but i knew i could score better next time', 32)\n",
      "('i was sad to fail my exams but i knew i could get better next time', 31)\n",
      "('i was sad to fail the exam but i knew i could score better next time', 28)\n",
      "('i was sad because i failed my exam but i knew i could score better next time', 24)\n",
      "('i was sad to fail my exam but i knew that i could score better next time', 20)\n",
      "('i was sad that i failed my exam but i knew i could score better next time', 18)\n",
      "('i was sad that i failed my exam but i knew that i could score better next time', 13)\n"
     ]
    }
   ],
   "source": [
    "phrases = [\"Can you recommed some upscale restaurants in Newyork?\",\n",
    "           \"I was sad that I failed my exam but I knew that I could score better next time.\"\n",
    "]\n",
    "\n",
    "for phrase in phrases:\n",
    "    print(\"-\"*100)\n",
    "    print(\"Input_phrase: \", phrase)\n",
    "    print(\"-\"*100)\n",
    "    para_phrases = parrot.augment(input_phrase=phrase, use_gpu=False)\n",
    "    for para_phrase in para_phrases:\n",
    "        print(para_phrase)"
   ]
  },
  {
   "cell_type": "markdown",
   "id": "18457761-df7b-4769-9512-1a14225c5610",
   "metadata": {},
   "source": [
    "## creating classes to establish pipeline: preprocessing text, generating synonyms, generating paraphrases, generating tags"
   ]
  },
  {
   "cell_type": "code",
   "execution_count": 9,
   "id": "bc0ef484-aa8a-4aec-8316-7372d8d8852f",
   "metadata": {},
   "outputs": [
    {
     "name": "stdout",
     "output_type": "stream",
     "text": [
      "huggingface/tokenizers: The current process just got forked, after parallelism has already been used. Disabling parallelism to avoid deadlocks...\n",
      "To disable this warning, you can either:\n",
      "\t- Avoid using `tokenizers` before the fork if possible\n",
      "\t- Explicitly set the environment variable TOKENIZERS_PARALLELISM=(true | false)\n",
      "Collecting en-core-web-sm==3.4.0\n",
      "  Downloading https://github.com/explosion/spacy-models/releases/download/en_core_web_sm-3.4.0/en_core_web_sm-3.4.0-py3-none-any.whl (12.8 MB)\n",
      "\u001b[2K     \u001b[38;2;114;156;31m━━━━━━━━━━━━━━━━━━━━━━━━━━━━━━━━━━━━━━━━\u001b[0m \u001b[32m12.8/12.8 MB\u001b[0m \u001b[31m26.8 MB/s\u001b[0m eta \u001b[36m0:00:00\u001b[0mm eta \u001b[36m0:00:01\u001b[0m0:01\u001b[0m01\u001b[0m\n",
      "\u001b[?25hRequirement already satisfied: spacy<3.5.0,>=3.4.0 in /Users/matthewstachyra/.local/share/virtualenvs/NAVA-dJ29zUSD/lib/python3.9/site-packages (from en-core-web-sm==3.4.0) (3.4.0)\n",
      "Requirement already satisfied: numpy>=1.15.0 in /Users/matthewstachyra/.local/share/virtualenvs/NAVA-dJ29zUSD/lib/python3.9/site-packages (from spacy<3.5.0,>=3.4.0->en-core-web-sm==3.4.0) (1.23.1)\n",
      "Requirement already satisfied: spacy-legacy<3.1.0,>=3.0.9 in /Users/matthewstachyra/.local/share/virtualenvs/NAVA-dJ29zUSD/lib/python3.9/site-packages (from spacy<3.5.0,>=3.4.0->en-core-web-sm==3.4.0) (3.0.9)\n",
      "Requirement already satisfied: jinja2 in /Users/matthewstachyra/.local/share/virtualenvs/NAVA-dJ29zUSD/lib/python3.9/site-packages (from spacy<3.5.0,>=3.4.0->en-core-web-sm==3.4.0) (3.1.2)\n",
      "Requirement already satisfied: wasabi<1.1.0,>=0.9.1 in /Users/matthewstachyra/.local/share/virtualenvs/NAVA-dJ29zUSD/lib/python3.9/site-packages (from spacy<3.5.0,>=3.4.0->en-core-web-sm==3.4.0) (0.9.1)\n",
      "Requirement already satisfied: setuptools in /Users/matthewstachyra/.local/share/virtualenvs/NAVA-dJ29zUSD/lib/python3.9/site-packages (from spacy<3.5.0,>=3.4.0->en-core-web-sm==3.4.0) (63.1.0)\n",
      "Requirement already satisfied: thinc<8.2.0,>=8.1.0 in /Users/matthewstachyra/.local/share/virtualenvs/NAVA-dJ29zUSD/lib/python3.9/site-packages (from spacy<3.5.0,>=3.4.0->en-core-web-sm==3.4.0) (8.1.0)\n",
      "Requirement already satisfied: srsly<3.0.0,>=2.4.3 in /Users/matthewstachyra/.local/share/virtualenvs/NAVA-dJ29zUSD/lib/python3.9/site-packages (from spacy<3.5.0,>=3.4.0->en-core-web-sm==3.4.0) (2.4.3)\n",
      "Requirement already satisfied: requests<3.0.0,>=2.13.0 in /Users/matthewstachyra/.local/share/virtualenvs/NAVA-dJ29zUSD/lib/python3.9/site-packages (from spacy<3.5.0,>=3.4.0->en-core-web-sm==3.4.0) (2.28.1)\n",
      "Requirement already satisfied: pydantic!=1.8,!=1.8.1,<1.10.0,>=1.7.4 in /Users/matthewstachyra/.local/share/virtualenvs/NAVA-dJ29zUSD/lib/python3.9/site-packages (from spacy<3.5.0,>=3.4.0->en-core-web-sm==3.4.0) (1.9.1)\n",
      "Requirement already satisfied: cymem<2.1.0,>=2.0.2 in /Users/matthewstachyra/.local/share/virtualenvs/NAVA-dJ29zUSD/lib/python3.9/site-packages (from spacy<3.5.0,>=3.4.0->en-core-web-sm==3.4.0) (2.0.6)\n",
      "Requirement already satisfied: preshed<3.1.0,>=3.0.2 in /Users/matthewstachyra/.local/share/virtualenvs/NAVA-dJ29zUSD/lib/python3.9/site-packages (from spacy<3.5.0,>=3.4.0->en-core-web-sm==3.4.0) (3.0.6)\n",
      "Requirement already satisfied: catalogue<2.1.0,>=2.0.6 in /Users/matthewstachyra/.local/share/virtualenvs/NAVA-dJ29zUSD/lib/python3.9/site-packages (from spacy<3.5.0,>=3.4.0->en-core-web-sm==3.4.0) (2.0.7)\n",
      "Requirement already satisfied: typer<0.5.0,>=0.3.0 in /Users/matthewstachyra/.local/share/virtualenvs/NAVA-dJ29zUSD/lib/python3.9/site-packages (from spacy<3.5.0,>=3.4.0->en-core-web-sm==3.4.0) (0.4.2)\n",
      "Requirement already satisfied: pathy>=0.3.5 in /Users/matthewstachyra/.local/share/virtualenvs/NAVA-dJ29zUSD/lib/python3.9/site-packages (from spacy<3.5.0,>=3.4.0->en-core-web-sm==3.4.0) (0.6.2)\n",
      "Requirement already satisfied: tqdm<5.0.0,>=4.38.0 in /Users/matthewstachyra/.local/share/virtualenvs/NAVA-dJ29zUSD/lib/python3.9/site-packages (from spacy<3.5.0,>=3.4.0->en-core-web-sm==3.4.0) (4.64.0)\n",
      "Requirement already satisfied: langcodes<4.0.0,>=3.2.0 in /Users/matthewstachyra/.local/share/virtualenvs/NAVA-dJ29zUSD/lib/python3.9/site-packages (from spacy<3.5.0,>=3.4.0->en-core-web-sm==3.4.0) (3.3.0)\n",
      "Requirement already satisfied: murmurhash<1.1.0,>=0.28.0 in /Users/matthewstachyra/.local/share/virtualenvs/NAVA-dJ29zUSD/lib/python3.9/site-packages (from spacy<3.5.0,>=3.4.0->en-core-web-sm==3.4.0) (1.0.7)\n",
      "Requirement already satisfied: spacy-loggers<2.0.0,>=1.0.0 in /Users/matthewstachyra/.local/share/virtualenvs/NAVA-dJ29zUSD/lib/python3.9/site-packages (from spacy<3.5.0,>=3.4.0->en-core-web-sm==3.4.0) (1.0.2)\n",
      "Requirement already satisfied: packaging>=20.0 in /Users/matthewstachyra/.local/share/virtualenvs/NAVA-dJ29zUSD/lib/python3.9/site-packages (from spacy<3.5.0,>=3.4.0->en-core-web-sm==3.4.0) (21.3)\n",
      "Requirement already satisfied: pyparsing!=3.0.5,>=2.0.2 in /Users/matthewstachyra/.local/share/virtualenvs/NAVA-dJ29zUSD/lib/python3.9/site-packages (from packaging>=20.0->spacy<3.5.0,>=3.4.0->en-core-web-sm==3.4.0) (3.0.9)\n",
      "Requirement already satisfied: smart-open<6.0.0,>=5.2.1 in /Users/matthewstachyra/.local/share/virtualenvs/NAVA-dJ29zUSD/lib/python3.9/site-packages (from pathy>=0.3.5->spacy<3.5.0,>=3.4.0->en-core-web-sm==3.4.0) (5.2.1)\n",
      "Requirement already satisfied: typing-extensions>=3.7.4.3 in /Users/matthewstachyra/.local/share/virtualenvs/NAVA-dJ29zUSD/lib/python3.9/site-packages (from pydantic!=1.8,!=1.8.1,<1.10.0,>=1.7.4->spacy<3.5.0,>=3.4.0->en-core-web-sm==3.4.0) (4.3.0)\n",
      "Requirement already satisfied: urllib3<1.27,>=1.21.1 in /Users/matthewstachyra/.local/share/virtualenvs/NAVA-dJ29zUSD/lib/python3.9/site-packages (from requests<3.0.0,>=2.13.0->spacy<3.5.0,>=3.4.0->en-core-web-sm==3.4.0) (1.26.10)\n",
      "Requirement already satisfied: certifi>=2017.4.17 in /Users/matthewstachyra/.local/share/virtualenvs/NAVA-dJ29zUSD/lib/python3.9/site-packages (from requests<3.0.0,>=2.13.0->spacy<3.5.0,>=3.4.0->en-core-web-sm==3.4.0) (2022.6.15)\n",
      "Requirement already satisfied: charset-normalizer<3,>=2 in /Users/matthewstachyra/.local/share/virtualenvs/NAVA-dJ29zUSD/lib/python3.9/site-packages (from requests<3.0.0,>=2.13.0->spacy<3.5.0,>=3.4.0->en-core-web-sm==3.4.0) (2.1.0)\n",
      "Requirement already satisfied: idna<4,>=2.5 in /Users/matthewstachyra/.local/share/virtualenvs/NAVA-dJ29zUSD/lib/python3.9/site-packages (from requests<3.0.0,>=2.13.0->spacy<3.5.0,>=3.4.0->en-core-web-sm==3.4.0) (3.3)\n",
      "Requirement already satisfied: blis<0.8.0,>=0.7.8 in /Users/matthewstachyra/.local/share/virtualenvs/NAVA-dJ29zUSD/lib/python3.9/site-packages (from thinc<8.2.0,>=8.1.0->spacy<3.5.0,>=3.4.0->en-core-web-sm==3.4.0) (0.7.8)\n",
      "Requirement already satisfied: click<9.0.0,>=7.1.1 in /Users/matthewstachyra/.local/share/virtualenvs/NAVA-dJ29zUSD/lib/python3.9/site-packages (from typer<0.5.0,>=0.3.0->spacy<3.5.0,>=3.4.0->en-core-web-sm==3.4.0) (8.1.3)\n",
      "Requirement already satisfied: MarkupSafe>=2.0 in /Users/matthewstachyra/.local/share/virtualenvs/NAVA-dJ29zUSD/lib/python3.9/site-packages (from jinja2->spacy<3.5.0,>=3.4.0->en-core-web-sm==3.4.0) (2.1.1)\n",
      "Installing collected packages: en-core-web-sm\n",
      "Successfully installed en-core-web-sm-3.4.0\n",
      "\u001b[38;5;2m✔ Download and installation successful\u001b[0m\n",
      "You can now load the package via spacy.load('en_core_web_sm')\n"
     ]
    }
   ],
   "source": [
    "!python -m spacy download en_core_web_sm"
   ]
  },
  {
   "cell_type": "code",
   "execution_count": 106,
   "id": "022c6afe-fd57-48ce-a64b-ce90097306b3",
   "metadata": {},
   "outputs": [],
   "source": [
    "class Preprocessor:\n",
    "    def __init__(self, note, remove_stopwords=False):\n",
    "        if not note: raise ValueError(\"Error: Input is invalid. It should be a string.\")\n",
    "        self.note = note\n",
    "        self.stopwords = remove_stopwords\n",
    "        \n",
    "    def __call__(self):\n",
    "        tokenizer = RegexpTokenizer(r'\\w+')\n",
    "        re_strip = re.compile('<.*?>')\n",
    "        lemmatizer = WordNetLemmatizer()\n",
    "        \n",
    "        self.note = self.note.lower()\n",
    "        self.note = re.sub(re_strip, '', self.note)\n",
    "        self.note = re.sub('[0-9]+', '', self.note)\n",
    "        self.note = \" \".join(tokenizer.tokenize(self.note))\n",
    "        self.note = \"\".join([lemmatizer.lemmatize(word) for word in self.note])\n",
    "        \n",
    "        if self.stopwords:\n",
    "            return self.remove_stopwords()\n",
    "        else:\n",
    "            return self.note\n",
    "    \n",
    "    def remove_stopwords(self):\n",
    "        stopwords = nltk.corpus.stopwords.words('english')\n",
    "        return \" \".join([word for word in self.note.split() if word not in stopwords])"
   ]
  },
  {
   "cell_type": "code",
   "execution_count": 107,
   "id": "bc78234f-674b-436e-b425-c9d7afefeae2",
   "metadata": {},
   "outputs": [
    {
     "data": {
      "text/plain": [
       "'this is a test note'"
      ]
     },
     "execution_count": 107,
     "metadata": {},
     "output_type": "execute_result"
    }
   ],
   "source": [
    "p = Preprocessor(\"This is a test note!@$#!@#!\")\n",
    "p()"
   ]
  },
  {
   "cell_type": "code",
   "execution_count": 108,
   "id": "6ecd3168-edf9-4469-a19c-4499f0db883b",
   "metadata": {},
   "outputs": [
    {
     "data": {
      "text/plain": [
       "'test note'"
      ]
     },
     "execution_count": 108,
     "metadata": {},
     "output_type": "execute_result"
    }
   ],
   "source": [
    "p = Preprocessor(\"This is a test note!@$#!@#!\", remove_stopwords=True)\n",
    "p()"
   ]
  },
  {
   "cell_type": "code",
   "execution_count": 121,
   "id": "b28fe311-b733-489e-b358-7c09cb97d75e",
   "metadata": {},
   "outputs": [],
   "source": [
    "class Synonymizer:\n",
    "    def __init__(self, note):\n",
    "        self.preprocessor = Preprocessor(note, remove_stopwords=True)\n",
    "        self.note = self.preprocessor()\n",
    "        self.glovemodel = api.load(\"glove-wiki-gigaword-100\")\n",
    "        self.spacymodel = spacy.load(\"en_core_web_sm\")\n",
    "        self.posmap = {'VERB':'v', 'NOUN':'n', 'PRON':'n', 'PROPN':'n', 'ADJ':'a', 'ADV':'r'}\n",
    "        \n",
    "    def __call__(self):\n",
    "        '''return dictionary of words : synonym(s) pairs.\n",
    "        '''\n",
    "        # NOTE current version removes n grams.\n",
    "        d = {}\n",
    "\n",
    "        for word in self.note.split():\n",
    "            synonyms = self.synonyms_by_word(word)\n",
    "\n",
    "            if synonyms: synonyms = list(set([synonym\n",
    "                                     for synonym in synonyms\n",
    "                                     if len(synonym.split(\"_\"))==1]))\n",
    "\n",
    "            if synonyms: d[word] = synonyms\n",
    "            \n",
    "        return d\n",
    "        \n",
    "    def pos_by_word(self, word):\n",
    "        for w in nlp(self.note):\n",
    "            if str(w)==word: return w.pos_\n",
    "\n",
    "    def similarities_by_word(self, word, synonyms):\n",
    "        def cosinesim(v1, v2):\n",
    "            return (np.dot(v1, v2 / (norm(v1) * norm(v2))))\n",
    "        \n",
    "        def embed(vector, model):\n",
    "            try:\n",
    "                vec = self.glovemodel.get_vector(vector)\n",
    "            except:\n",
    "                return np.empty(0)\n",
    "            return vec\n",
    "\n",
    "        sims = {word: 1.0}\n",
    "        ref  = embed(word, self.glovemodel)\n",
    "\n",
    "        for s in synonyms:\n",
    "            vec = embed(s, self.glovemodel)\n",
    "            if vec.any():\n",
    "                sim     = cosinesim(ref, vec)\n",
    "                sims[s] = sim\n",
    "\n",
    "        return sims\n",
    "\n",
    "    def print_similarities(self, similarities):\n",
    "        for synonym, similarity in similarities.items():\n",
    "            print(f\"word: {synonym}, cosine similarity: {similarity}\")\n",
    "\n",
    "    def synonyms_by_word(self, word):\n",
    "        pos = self.pos_by_word(word)\n",
    "\n",
    "        if pos not in ['VERB', 'NOUN', 'PRON', 'PROPN', 'ADJ', 'ADV']: return\n",
    "\n",
    "        # get full set of synonyms\n",
    "        synonyms = set(list(itertools.chain([synonym\n",
    "                                             for synset in wn.synsets(word, pos=self.posmap[pos])\n",
    "                                             for synonym in synset.lemma_names()\n",
    "                                             if len(word)>1])))\n",
    "\n",
    "        # filter this set using cosine similarities\n",
    "        similarities = self.similarities_by_word(word, synonyms)\n",
    "\n",
    "        return [synonym\n",
    "                for synonym, similarity in similarities.items()\n",
    "                if similarity>=0.70]\n",
    "    "
   ]
  },
  {
   "cell_type": "code",
   "execution_count": 122,
   "id": "92437d5b-c8e9-4646-baad-52d2b9c1de1d",
   "metadata": {},
   "outputs": [],
   "source": [
    "s = Synonymizer(\"I was sad that I failed my exam but I knew that I could score better next time.\")"
   ]
  },
  {
   "cell_type": "code",
   "execution_count": 123,
   "id": "f7ca4004-f350-4502-91ca-752fad4a155b",
   "metadata": {},
   "outputs": [
    {
     "data": {
      "text/plain": [
       "{'sad': ['sad', 'sorry'],\n",
       " 'failed': ['failed', 'fail'],\n",
       " 'exam': ['exam', 'examination'],\n",
       " 'knew': ['knew', 'know'],\n",
       " 'score': ['score'],\n",
       " 'better': ['best', 'better', 'well', 'good'],\n",
       " 'next': ['future', 'next'],\n",
       " 'time': ['time']}"
      ]
     },
     "execution_count": 123,
     "metadata": {},
     "output_type": "execute_result"
    }
   ],
   "source": [
    "s()"
   ]
  },
  {
   "cell_type": "code",
   "execution_count": 139,
   "id": "50edc611-764f-4fb9-8f67-68818e4b5674",
   "metadata": {},
   "outputs": [],
   "source": [
    "class Paraphraser:\n",
    "    def __init__(self, note, with_gpu=False):\n",
    "        self.preprocessor = Preprocessor(note)\n",
    "        self.synonymizer = Synonymizer(note)\n",
    "        self.parrot = Parrot(model_tag=\"prithivida/parrot_paraphraser_on_T5\")\n",
    "        self.note = self.preprocessor()\n",
    "        self.synonyms = self.synonymizer() \n",
    "        self.gpu = with_gpu\n",
    "    \n",
    "    def __call__(self):\n",
    "        '''return list of paraphrases of the note.\n",
    "        '''\n",
    "        paraphrases = self.transformer_phrases()\n",
    "        paraphrases.extend(self.synonym_phrases())\n",
    "        return paraphrases\n",
    "        \n",
    "    def transformer_phrases(self):\n",
    "        phrases = [tup[0] for tup in parrot.augment(input_phrase=self.note, \n",
    "                                                 use_gpu=self.gpu)]\n",
    "        print(phrases)\n",
    "        return phrases\n",
    "        \n",
    "    def synonym_phrases(self):\n",
    "        genlist = []\n",
    "        tokens  = []\n",
    "        prev    = 0\n",
    "\n",
    "        for word in self.note.split():\n",
    "            if word in self.synonyms:\n",
    "                tokens.append(list(itertools.chain(*[[word], self.synonyms[word]])))\n",
    "            else:\n",
    "                tokens.append([word])\n",
    "\n",
    "        # use tokens to return new utterances\n",
    "        for i in range(len(tokens)):\n",
    "            word  = tokens[i][0]\n",
    "            slist = tokens[i]\n",
    "\n",
    "            for j in range(len(slist)):\n",
    "                start = self.note.find(word, prev)\n",
    "                end   = start + len(word)\n",
    "                gen   = self.note[:start] + slist[j] + self.note[end:]\n",
    "                genlist.append(gen)\n",
    "\n",
    "            prev = end\n",
    "\n",
    "        return list(set(genlist))"
   ]
  },
  {
   "cell_type": "code",
   "execution_count": 140,
   "id": "bb63cc1d-8a3f-474d-9d44-af4e96a98106",
   "metadata": {},
   "outputs": [],
   "source": [
    "p = Paraphraser(\"I was sad that I failed my exam but I knew that I could score better next time.\")"
   ]
  },
  {
   "cell_type": "code",
   "execution_count": 141,
   "id": "3578bbba-5985-426a-8416-ed417dd8ef2b",
   "metadata": {},
   "outputs": [
    {
     "name": "stdout",
     "output_type": "stream",
     "text": [
      "['i was sad to fail an exam but i knew i could get better next time', 'i was sad that i failed my exams but i knew i would be able to score better next time', 'i was sad that i failed the exams but i knew i could score better next time', 'i was sad that i failed my exam but i knew i could score better the next time', 'i was sad that i failed my exams but i knew i could score better next time', 'i was sad that i failed my exam but i knew i could score better next time', 'i was sad i failed my exam but i knew that i could score better next time', 'i was sad that i failed my exam but i knew that i could score better next time']\n"
     ]
    },
    {
     "data": {
      "text/plain": [
       "['i was sad to fail an exam but i knew i could get better next time',\n",
       " 'i was sad that i failed my exams but i knew i would be able to score better next time',\n",
       " 'i was sad that i failed the exams but i knew i could score better next time',\n",
       " 'i was sad that i failed my exam but i knew i could score better the next time',\n",
       " 'i was sad that i failed my exams but i knew i could score better next time',\n",
       " 'i was sad that i failed my exam but i knew i could score better next time',\n",
       " 'i was sad i failed my exam but i knew that i could score better next time',\n",
       " 'i was sad that i failed my exam but i knew that i could score better next time',\n",
       " 'i was sad that i failed my exam but i knew that i could score better future time',\n",
       " 'i was sad that i failed my exam but i knew that i could score better next time',\n",
       " 'i was sorry that i failed my exam but i knew that i could score better next time',\n",
       " 'i was sad that i failed my exam but i knew that i could score well next time',\n",
       " 'i was sad that i failed my exam but i knew that i could score best next time',\n",
       " 'i was sad that i failed my exam but i know that i could score better next time',\n",
       " 'i was sad that i failed my exam but i knew that i could score good next time',\n",
       " 'i was sad that i fail my exam but i knew that i could score better next time',\n",
       " 'i was sad that i failed my examination but i knew that i could score better next time']"
      ]
     },
     "execution_count": 141,
     "metadata": {},
     "output_type": "execute_result"
    }
   ],
   "source": [
    "p()"
   ]
  },
  {
   "cell_type": "code",
   "execution_count": 42,
   "id": "b9155c32-c2b7-42ae-a195-f640f49a5a13",
   "metadata": {},
   "outputs": [],
   "source": [
    "class Tagger:\n",
    "    #TODO"
   ]
  },
  {
   "cell_type": "code",
   "execution_count": null,
   "id": "af5416f7-e30c-4218-8fda-c2765f9fa7cd",
   "metadata": {},
   "outputs": [],
   "source": []
  }
 ],
 "metadata": {
  "kernelspec": {
   "display_name": "Python 3 (ipykernel)",
   "language": "python",
   "name": "python3"
  },
  "language_info": {
   "codemirror_mode": {
    "name": "ipython",
    "version": 3
   },
   "file_extension": ".py",
   "mimetype": "text/x-python",
   "name": "python",
   "nbconvert_exporter": "python",
   "pygments_lexer": "ipython3",
   "version": "3.9.13"
  }
 },
 "nbformat": 4,
 "nbformat_minor": 5
}
